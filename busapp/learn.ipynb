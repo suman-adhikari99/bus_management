{
 "cells": [
  {
   "cell_type": "code",
   "execution_count": null,
   "metadata": {},
   "outputs": [],
   "source": [
    "Note: we use auto_now_add=True to automatically update time after creating a post, \n",
    "this will show only one time, and auto_now=True to automatically update after editing \n",
    "a post, and it changes every time we edit a post"
   ]
  },
  {
   "cell_type": "code",
   "execution_count": 13,
   "metadata": {},
   "outputs": [
    {
     "name": "stdout",
     "output_type": "stream",
     "text": [
      "[('2', '2'), ('3', '3'), (4, 4), (5, 5), (6, 6), (7, 7), (8, 8), (9, 9), (10, 10)]\n"
     ]
    }
   ],
   "source": [
    "SEAT = [('1', '1'), ('2', '2'), ('3', '3'), (4, 4), (5, 5), (6, 6), (7, 7),  (8, 8), (9, 9),  (10, 10)]\n",
    "SEATS=['1', '5', '6', '9', '7', '8']\n",
    "print([(k, v) for k, v in SEAT if k not in SEATS])"
   ]
  }
 ],
 "metadata": {
  "interpreter": {
   "hash": "5f9cb940f39efd1a38bc8837f83c1ea867dff5b11d62f8618863e45340b18101"
  },
  "kernelspec": {
   "display_name": "Python 3.8.10 ('busenv': venv)",
   "language": "python",
   "name": "python3"
  },
  "language_info": {
   "codemirror_mode": {
    "name": "ipython",
    "version": 3
   },
   "file_extension": ".py",
   "mimetype": "text/x-python",
   "name": "python",
   "nbconvert_exporter": "python",
   "pygments_lexer": "ipython3",
   "version": "3.8.10"
  },
  "orig_nbformat": 4
 },
 "nbformat": 4,
 "nbformat_minor": 2
}
